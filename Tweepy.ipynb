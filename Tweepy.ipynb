{
 "cells": [
  {
   "cell_type": "code",
   "execution_count": 20,
   "metadata": {
    "collapsed": true
   },
   "outputs": [],
   "source": [
    "import tweepy #most user friendly twitter API library\n",
    "\n",
    "def build_model(tweets_categories):   \n",
    "    \n",
    "#STEP 1: Get global learning data set\n",
    "#api connection to twitter\n",
    "    CONSUMER_KEY= '####'\n",
    "    CONSUMER_SECRET = '####'\n",
    "    ACCESS_KEY = '####'\n",
    "    ACCESS_SECRET = '####'\n",
    "    auth = tweepy.OAuthHandler(CONSUMER_KEY, CONSUMER_SECRET)\n",
    "    auth.set_access_token(ACCESS_KEY, ACCESS_SECRET)\n",
    "    api = tweepy.API(auth)\n",
    "\n",
    "\n",
    "#Use tweepy Cursor to get all tweets relating to a query in the english language\n",
    "    for tweet in tweepy.Cursor(api.search, q=tweets_categories,count=1,result_type=\"recent\",include_entities=True, lang=\"en\").items(5):\n",
    "        tweeties= tweet.text\n",
    "    return tweeties"
   ]
  },
  {
   "cell_type": "code",
   "execution_count": 19,
   "metadata": {},
   "outputs": [
    {
     "data": {
      "text/plain": [
       "'All 5 or 6 of them cops woulda lit that car up the moment they saw a black man or woman reaching for a shotgun'"
      ]
     },
     "execution_count": 19,
     "metadata": {},
     "output_type": "execute_result"
    }
   ],
   "source": [
    "build_model('car')"
   ]
  },
  {
   "cell_type": "code",
   "execution_count": null,
   "metadata": {
    "collapsed": true
   },
   "outputs": [],
   "source": []
  }
 ],
 "metadata": {
  "kernelspec": {
   "display_name": "Python 3",
   "language": "python",
   "name": "python3"
  },
  "language_info": {
   "codemirror_mode": {
    "name": "ipython",
    "version": 3
   },
   "file_extension": ".py",
   "mimetype": "text/x-python",
   "name": "python",
   "nbconvert_exporter": "python",
   "pygments_lexer": "ipython3",
   "version": "3.6.2"
  }
 },
 "nbformat": 4,
 "nbformat_minor": 2
}
